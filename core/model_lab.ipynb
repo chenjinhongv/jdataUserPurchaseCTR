{
 "cells": [
  {
   "cell_type": "markdown",
   "metadata": {},
   "source": [
    "## 数据载入&样本构造"
   ]
  },
  {
   "cell_type": "code",
   "execution_count": 1,
   "metadata": {},
   "outputs": [],
   "source": [
    "from feat import *\n",
    "from utils import *"
   ]
  },
  {
   "cell_type": "code",
   "execution_count": 2,
   "metadata": {},
   "outputs": [],
   "source": [
    "# 原始数据路径&缓存数据路径\n",
    "ori_data_path = \"../data/\"\n",
    "cache_path = \"../cache/\""
   ]
  },
  {
   "cell_type": "code",
   "execution_count": 3,
   "metadata": {},
   "outputs": [],
   "source": [
    "start = \"2016-01-31 23:59:02\" # 行为记录起始时间戳\n",
    "end = \"2016-04-15 23:59:59\" # 行为记录结束时间戳"
   ]
  },
  {
   "cell_type": "code",
   "execution_count": 4,
   "metadata": {},
   "outputs": [],
   "source": [
    "test_end_date = \"2016-04-08 23:59:59\" \n",
    "train_end_date = \"2016-04-01 23:59:59\"\n",
    "label_span = 7\n",
    "sample_span = 7\n",
    "action_feat_span = 30 "
   ]
  },
  {
   "cell_type": "code",
   "execution_count": 5,
   "metadata": {},
   "outputs": [],
   "source": [
    "action = get_action()"
   ]
  },
  {
   "cell_type": "code",
   "execution_count": 6,
   "metadata": {},
   "outputs": [],
   "source": [
    "# 训练集划窗行为数据切分\n",
    "train_win_set = [(train_end_date, action_feat_span),\n",
    "                 (train_end_date, sample_span),\n",
    "                 (test_end_date, label_span)]\n",
    "train_feat_action, train_sample_action, train_label_action = get_slide_win_action(action, \"datetime\", train_win_set)"
   ]
  },
  {
   "cell_type": "code",
   "execution_count": 9,
   "metadata": {},
   "outputs": [],
   "source": [
    "# 测试集划窗行为切分\n",
    "test_win_set = [(test_end_date, action_feat_span),\n",
    "                (test_end_date, sample_span),\n",
    "                (end, label_span)]\n",
    "test_feat_action, test_sample_action, test_label_action = get_slide_win_action(action, \"datetime\", test_win_set)"
   ]
  },
  {
   "cell_type": "code",
   "execution_count": 39,
   "metadata": {},
   "outputs": [],
   "source": [
    "# 训练样本\n",
    "train_sample = get_sample(train_sample_action)\n",
    "train_label = get_label(train_label_action)\n",
    "train_set = pd.merge(train_sample, train_label, on=[\"user_id\",\"sku_id\"], how=\"left\")\n",
    "train_set[\"label\"].fillna(0,inplace=True)"
   ]
  },
  {
   "cell_type": "code",
   "execution_count": 40,
   "metadata": {},
   "outputs": [
    {
     "name": "stdout",
     "output_type": "stream",
     "text": [
      "用户数量：\n",
      "40737\n",
      "商品数量：\n",
      "2744\n",
      "正负样本：\n",
      "Counter({0.0: 181167, 1.0: 423})\n"
     ]
    }
   ],
   "source": [
    "from collections import Counter\n",
    "print(\"用户数量：\")\n",
    "print(train_set[\"user_id\"].nunique())\n",
    "print(\"商品数量：\")\n",
    "print(train_set[\"sku_id\"].nunique())\n",
    "print(\"正负样本：\")\n",
    "print(Counter(train_set[\"label\"]))"
   ]
  },
  {
   "cell_type": "code",
   "execution_count": 41,
   "metadata": {},
   "outputs": [],
   "source": [
    "# 测试样本\n",
    "test_sample = get_sample(test_sample_action)\n",
    "test_label = get_label(test_label_action)\n",
    "test_set = pd.merge(test_sample, test_label, on=[\"user_id\",\"sku_id\"], how=\"left\")\n",
    "test_set[\"label\"].fillna(0,inplace=True)"
   ]
  },
  {
   "cell_type": "code",
   "execution_count": 42,
   "metadata": {},
   "outputs": [
    {
     "name": "stdout",
     "output_type": "stream",
     "text": [
      "用户数量：\n",
      "44336\n",
      "商品数量：\n",
      "2779\n",
      "正负样本：\n",
      "Counter({0.0: 220476, 1.0: 579})\n"
     ]
    }
   ],
   "source": [
    "print(\"用户数量：\")\n",
    "print(test_set[\"user_id\"].nunique())\n",
    "print(\"商品数量：\")\n",
    "print(test_set[\"sku_id\"].nunique())\n",
    "print(\"正负样本：\")\n",
    "print(Counter(test_set[\"label\"]))"
   ]
  },
  {
   "cell_type": "markdown",
   "metadata": {},
   "source": [
    "## 特征构造"
   ]
  },
  {
   "cell_type": "markdown",
   "metadata": {},
   "source": [
    "### 用户基本特征和产品基本特征"
   ]
  },
  {
   "cell_type": "code",
   "execution_count": 12,
   "metadata": {},
   "outputs": [],
   "source": [
    "user_base_feat = get_user_base_feat()"
   ]
  },
  {
   "cell_type": "code",
   "execution_count": 13,
   "metadata": {},
   "outputs": [],
   "source": [
    "product_base_feat = get_product_base_feat()"
   ]
  },
  {
   "cell_type": "code",
   "execution_count": 14,
   "metadata": {},
   "outputs": [],
   "source": [
    "train_set = pd.merge(train_set,user_base_feat,on=[\"user_id\"],how=\"left\")\n",
    "train_set = pd.merge(train_set,product_base_feat,on=[\"sku_id\"],how=\"left\")"
   ]
  },
  {
   "cell_type": "code",
   "execution_count": 15,
   "metadata": {},
   "outputs": [],
   "source": [
    "test_set = pd.merge(test_set,user_base_feat,on=[\"user_id\"],how=\"left\")\n",
    "test_set = pd.merge(test_set,product_base_feat,on=[\"sku_id\"],how=\"left\")"
   ]
  },
  {
   "cell_type": "code",
   "execution_count": 16,
   "metadata": {},
   "outputs": [],
   "source": [
    "train_X = train_set.drop(columns=[\"user_id\",\"sku_id\",\"label\",\"cate\",\"brand\"],axis=1)\n",
    "train_y = train_set.loc[:,[\"label\"]]\n",
    "test_X = test_set.drop(columns=[\"user_id\",\"sku_id\",\"label\",\"cate\",\"brand\"],axis=1)\n",
    "test_y = test_set.loc[:,[\"label\"]]"
   ]
  },
  {
   "cell_type": "code",
   "execution_count": 17,
   "metadata": {},
   "outputs": [
    {
     "data": {
      "text/plain": [
       "Index(['sex', 'user_lv_cd', 'age_rank', 'reg_age', 'a1', 'a2', 'a3',\n",
       "       'comment_num', 'has_bad_comment', 'bad_comment_rate'],\n",
       "      dtype='object')"
      ]
     },
     "execution_count": 17,
     "metadata": {},
     "output_type": "execute_result"
    }
   ],
   "source": [
    "train_X.columns"
   ]
  },
  {
   "cell_type": "code",
   "execution_count": 18,
   "metadata": {},
   "outputs": [
    {
     "name": "stderr",
     "output_type": "stream",
     "text": [
      "D:\\ProgramData\\Anaconda3\\lib\\site-packages\\sklearn\\preprocessing\\_label.py:235: DataConversionWarning: A column-vector y was passed when a 1d array was expected. Please change the shape of y to (n_samples, ), for example using ravel().\n",
      "  y = column_or_1d(y, warn=True)\n",
      "D:\\ProgramData\\Anaconda3\\lib\\site-packages\\sklearn\\preprocessing\\_label.py:268: DataConversionWarning: A column-vector y was passed when a 1d array was expected. Please change the shape of y to (n_samples, ), for example using ravel().\n",
      "  y = column_or_1d(y, warn=True)\n"
     ]
    },
    {
     "data": {
      "text/plain": [
       "LGBMClassifier(boosting_type='gbdt', class_weight=None, colsample_bytree=1.0,\n",
       "               importance_type='split', learning_rate=0.1, max_depth=-1,\n",
       "               min_child_samples=20, min_child_weight=0.001, min_split_gain=0.0,\n",
       "               n_estimators=100, n_jobs=-1, num_leaves=31, objective=None,\n",
       "               random_state=None, reg_alpha=0.0, reg_lambda=0.0, silent=True,\n",
       "               subsample=1.0, subsample_for_bin=200000, subsample_freq=0)"
      ]
     },
     "execution_count": 18,
     "metadata": {},
     "output_type": "execute_result"
    }
   ],
   "source": [
    "# 试一下\n",
    "model = lgb.LGBMClassifier()\n",
    "model.fit(train_X,train_y)"
   ]
  },
  {
   "cell_type": "code",
   "execution_count": 19,
   "metadata": {},
   "outputs": [
    {
     "name": "stdout",
     "output_type": "stream",
     "text": [
      "训练集auc\n",
      "0.9609248192271989\n",
      "测试集auc\n",
      "0.20430443957905325\n"
     ]
    }
   ],
   "source": [
    "# auc\n",
    "from sklearn.metrics import roc_auc_score\n",
    "print(\"训练集auc\")\n",
    "print(roc_auc_score(train_y,model.predict_proba(train_X)[:,1]))\n",
    "print(\"测试集auc\")\n",
    "print(roc_auc_score(test_y,model.predict_proba(test_X)[:,1]))"
   ]
  },
  {
   "cell_type": "markdown",
   "metadata": {},
   "source": [
    "仅依赖用户侧和商品侧的基本特征，模型泛化能力较差"
   ]
  },
  {
   "cell_type": "code",
   "execution_count": 20,
   "metadata": {},
   "outputs": [
    {
     "data": {
      "text/plain": [
       "<matplotlib.axes._subplots.AxesSubplot at 0x25a37fa18c8>"
      ]
     },
     "execution_count": 20,
     "metadata": {},
     "output_type": "execute_result"
    },
    {
     "data": {
      "image/png": "[encoded data removed]",
      "text/plain": [
       "<Figure size 1152x576 with 1 Axes>"
      ]
     },
     "metadata": {
      "needs_background": "light"
     },
     "output_type": "display_data"
    }
   ],
   "source": [
    "# 特征重要度\n",
    "feature_importances = model.feature_importances_\n",
    "feature_importances = pd.Series(feature_importances,index=train_X.columns)\n",
    "from matplotlib.pylab import rcParams\n",
    "rcParams['figure.figsize'] = 16, 8\n",
    "feature_importances.sort_values().plot(kind=\"bar\")"
   ]
  },
  {
   "cell_type": "markdown",
   "metadata": {},
   "source": [
    "### 用户行为特征"
   ]
  },
  {
   "cell_type": "code",
   "execution_count": 43,
   "metadata": {},
   "outputs": [],
   "source": [
    "act_train = action.loc[action.datetime<train_end_date,:]\n",
    "act_test = action.loc[action.datetime<test_end_date,:]\n",
    "train_user_act_feat = get_user_acc_action_feat(act_train,train_end_date,cache_path)\n",
    "test_user_act_feat = get_user_acc_action_feat(act_test,test_end_date,cache_path)"
   ]
  },
  {
   "cell_type": "code",
   "execution_count": 44,
   "metadata": {},
   "outputs": [],
   "source": [
    "train_set = pd.merge(train_set,train_user_act_feat,on=[\"user_id\"],how=\"left\")\n",
    "test_set = pd.merge(test_set,test_user_act_feat,on=[\"user_id\"],how=\"left\")"
   ]
  },
  {
   "cell_type": "code",
   "execution_count": 46,
   "metadata": {},
   "outputs": [],
   "source": [
    "train_X = train_set.drop(columns=[\"user_id\",\"sku_id\",\"label\"],axis=1)\n",
    "train_y = train_set.loc[:,[\"label\"]]\n",
    "test_X = test_set.drop(columns=[\"user_id\",\"sku_id\",\"label\"],axis=1)\n",
    "test_y = test_set.loc[:,[\"label\"]]"
   ]
  },
  {
   "cell_type": "code",
   "execution_count": 47,
   "metadata": {},
   "outputs": [
    {
     "name": "stderr",
     "output_type": "stream",
     "text": [
      "D:\\ProgramData\\Anaconda3\\lib\\site-packages\\sklearn\\preprocessing\\_label.py:235: DataConversionWarning: A column-vector y was passed when a 1d array was expected. Please change the shape of y to (n_samples, ), for example using ravel().\n",
      "  y = column_or_1d(y, warn=True)\n",
      "D:\\ProgramData\\Anaconda3\\lib\\site-packages\\sklearn\\preprocessing\\_label.py:268: DataConversionWarning: A column-vector y was passed when a 1d array was expected. Please change the shape of y to (n_samples, ), for example using ravel().\n",
      "  y = column_or_1d(y, warn=True)\n"
     ]
    },
    {
     "data": {
      "text/plain": [
       "LGBMClassifier(boosting_type='gbdt', class_weight=None, colsample_bytree=1.0,\n",
       "               importance_type='split', learning_rate=0.1, max_depth=-1,\n",
       "               min_child_samples=20, min_child_weight=0.001, min_split_gain=0.0,\n",
       "               n_estimators=100, n_jobs=-1, num_leaves=31, objective=None,\n",
       "               random_state=None, reg_alpha=0.0, reg_lambda=0.0, silent=True,\n",
       "               subsample=1.0, subsample_for_bin=200000, subsample_freq=0)"
      ]
     },
     "execution_count": 47,
     "metadata": {},
     "output_type": "execute_result"
    }
   ],
   "source": [
    "model = lgb.LGBMClassifier()\n",
    "model.fit(train_X,train_y)"
   ]
  },
  {
   "cell_type": "code",
   "execution_count": 48,
   "metadata": {},
   "outputs": [
    {
     "name": "stdout",
     "output_type": "stream",
     "text": [
      "训练集auc\n",
      "0.9900522147968932\n",
      "测试集auc\n",
      "0.7703704962298404\n"
     ]
    }
   ],
   "source": [
    "# auc\n",
    "from sklearn.metrics import roc_auc_score\n",
    "print(\"训练集auc\")\n",
    "print(roc_auc_score(train_y,model.predict_proba(train_X)[:,1]))\n",
    "print(\"测试集auc\")\n",
    "print(roc_auc_score(test_y,model.predict_proba(test_X)[:,1]))"
   ]
  },
  {
   "cell_type": "code",
   "execution_count": 49,
   "metadata": {},
   "outputs": [
    {
     "data": {
      "text/plain": [
       "<matplotlib.axes._subplots.AxesSubplot at 0x25ab23f26c8>"
      ]
     },
     "execution_count": 49,
     "metadata": {},
     "output_type": "execute_result"
    },
    {
     "data": {
      "image/png": "[encoded data removed]",
      "text/plain": [
       "<Figure size 1152x576 with 1 Axes>"
      ]
     },
     "metadata": {
      "needs_background": "light"
     },
     "output_type": "display_data"
    }
   ],
   "source": [
    "# 特征重要度\n",
    "feature_importances = model.feature_importances_\n",
    "feature_importances = pd.Series(feature_importances,index=train_X.columns)\n",
    "from matplotlib.pylab import rcParams\n",
    "rcParams['figure.figsize'] = 16, 8\n",
    "feature_importances.sort_values().plot(kind=\"bar\")"
   ]
  },
  {
   "cell_type": "markdown",
   "metadata": {},
   "source": [
    "### 用户x产品交互特征"
   ]
  },
  {
   "cell_type": "code",
   "execution_count": 50,
   "metadata": {},
   "outputs": [],
   "source": [
    "train_uxp_act_feat = get_uxp_action_acc_feat(act_train, train_end_date, cache_path)\n",
    "test_uxp_act_feat = get_uxp_action_acc_feat(act_test, test_end_date, cache_path)"
   ]
  },
  {
   "cell_type": "code",
   "execution_count": 51,
   "metadata": {},
   "outputs": [],
   "source": [
    "train_set = pd.merge(train_set,train_uxp_act_feat,on=[\"user_id\",\"sku_id\"],how=\"left\")\n",
    "test_set = pd.merge(test_set,test_uxp_act_feat,on=[\"user_id\",\"sku_id\"],how=\"left\")"
   ]
  },
  {
   "cell_type": "code",
   "execution_count": 52,
   "metadata": {},
   "outputs": [],
   "source": [
    "train_X = train_set.drop(columns=[\"user_id\",\"sku_id\",\"label\"],axis=1)\n",
    "train_y = train_set.loc[:,[\"label\"]]\n",
    "test_X = test_set.drop(columns=[\"user_id\",\"sku_id\",\"label\"],axis=1)\n",
    "test_y = test_set.loc[:,[\"label\"]]"
   ]
  },
  {
   "cell_type": "code",
   "execution_count": 53,
   "metadata": {},
   "outputs": [
    {
     "name": "stderr",
     "output_type": "stream",
     "text": [
      "D:\\ProgramData\\Anaconda3\\lib\\site-packages\\sklearn\\preprocessing\\_label.py:235: DataConversionWarning: A column-vector y was passed when a 1d array was expected. Please change the shape of y to (n_samples, ), for example using ravel().\n",
      "  y = column_or_1d(y, warn=True)\n",
      "D:\\ProgramData\\Anaconda3\\lib\\site-packages\\sklearn\\preprocessing\\_label.py:268: DataConversionWarning: A column-vector y was passed when a 1d array was expected. Please change the shape of y to (n_samples, ), for example using ravel().\n",
      "  y = column_or_1d(y, warn=True)\n"
     ]
    },
    {
     "data": {
      "text/plain": [
       "LGBMClassifier(boosting_type='gbdt', class_weight=None, colsample_bytree=1.0,\n",
       "               importance_type='split', learning_rate=0.1, max_depth=-1,\n",
       "               min_child_samples=20, min_child_weight=0.001, min_split_gain=0.0,\n",
       "               n_estimators=100, n_jobs=-1, num_leaves=31, objective=None,\n",
       "               random_state=None, reg_alpha=0.0, reg_lambda=0.0, silent=True,\n",
       "               subsample=1.0, subsample_for_bin=200000, subsample_freq=0)"
      ]
     },
     "execution_count": 53,
     "metadata": {},
     "output_type": "execute_result"
    }
   ],
   "source": [
    "model = lgb.LGBMClassifier()\n",
    "model.fit(train_X,train_y)"
   ]
  },
  {
   "cell_type": "code",
   "execution_count": 54,
   "metadata": {},
   "outputs": [
    {
     "name": "stdout",
     "output_type": "stream",
     "text": [
      "训练集auc\n",
      "0.9665389707896039\n",
      "测试集auc\n",
      "0.821791196099781\n"
     ]
    }
   ],
   "source": [
    "# auc\n",
    "from sklearn.metrics import roc_auc_score\n",
    "print(\"训练集auc\")\n",
    "print(roc_auc_score(train_y,model.predict_proba(train_X)[:,1]))\n",
    "print(\"测试集auc\")\n",
    "print(roc_auc_score(test_y,model.predict_proba(test_X)[:,1]))"
   ]
  },
  {
   "cell_type": "code",
   "execution_count": 55,
   "metadata": {},
   "outputs": [
    {
     "data": {
      "text/plain": [
       "<matplotlib.axes._subplots.AxesSubplot at 0x25ab3a0acc8>"
      ]
     },
     "execution_count": 55,
     "metadata": {},
     "output_type": "execute_result"
    },
    {
     "data": {
      "image/png": "[encoded data removed]",
      "text/plain": [
       "<Figure size 1152x576 with 1 Axes>"
      ]
     },
     "metadata": {
      "needs_background": "light"
     },
     "output_type": "display_data"
    }
   ],
   "source": [
    "# 特征重要度\n",
    "feature_importances = model.feature_importances_\n",
    "feature_importances = pd.Series(feature_importances,index=train_X.columns)\n",
    "from matplotlib.pylab import rcParams\n",
    "rcParams['figure.figsize'] = 16, 8\n",
    "feature_importances.sort_values().plot(kind=\"bar\")"
   ]
  },
  {
   "cell_type": "markdown",
   "metadata": {},
   "source": [
    "### 产品侧行为特征"
   ]
  },
  {
   "cell_type": "code",
   "execution_count": 56,
   "metadata": {},
   "outputs": [],
   "source": [
    "train_p_act_feat = get_product_action_acc_feat(act_train, train_end_date, cache_path)\n",
    "test_p_act_feat = get_product_action_acc_feat(act_test, test_end_date, cache_path)"
   ]
  },
  {
   "cell_type": "code",
   "execution_count": 57,
   "metadata": {},
   "outputs": [],
   "source": [
    "train_set = pd.merge(train_set, train_p_act_feat, on=[\"sku_id\"], how=\"left\")\n",
    "test_set = pd.merge(test_set, test_p_act_feat, on=[\"sku_id\"], how=\"left\")"
   ]
  },
  {
   "cell_type": "code",
   "execution_count": 59,
   "metadata": {},
   "outputs": [],
   "source": [
    "train_X = train_set.drop(columns=[\"sku_id\",\"user_id\",\"label\"], axis=1)\n",
    "test_X = test_set.drop(columns=[\"sku_id\",\"user_id\",\"label\"], axis=1)\n",
    "train_Y = train_set[\"label\"]\n",
    "test_Y = test_set[\"label\"]"
   ]
  },
  {
   "cell_type": "code",
   "execution_count": 60,
   "metadata": {},
   "outputs": [
    {
     "data": {
      "text/plain": [
       "LGBMClassifier(boosting_type='gbdt', class_weight=None, colsample_bytree=1.0,\n",
       "               importance_type='split', learning_rate=0.1, max_depth=-1,\n",
       "               min_child_samples=20, min_child_weight=0.001, min_split_gain=0.0,\n",
       "               n_estimators=100, n_jobs=-1, num_leaves=31, objective=None,\n",
       "               random_state=None, reg_alpha=0.0, reg_lambda=0.0, silent=True,\n",
       "               subsample=1.0, subsample_for_bin=200000, subsample_freq=0)"
      ]
     },
     "execution_count": 60,
     "metadata": {},
     "output_type": "execute_result"
    }
   ],
   "source": [
    "model.fit(train_X,train_Y)"
   ]
  },
  {
   "cell_type": "code",
   "execution_count": 61,
   "metadata": {},
   "outputs": [
    {
     "name": "stdout",
     "output_type": "stream",
     "text": [
      "训练集auc\n",
      "0.9227464345586817\n",
      "测试集auc\n",
      "0.748688596546063\n"
     ]
    }
   ],
   "source": [
    "# auc\n",
    "from sklearn.metrics import roc_auc_score\n",
    "print(\"训练集auc\")\n",
    "print(roc_auc_score(train_y,model.predict_proba(train_X)[:,1]))\n",
    "print(\"测试集auc\")\n",
    "print(roc_auc_score(test_y,model.predict_proba(test_X)[:,1]))"
   ]
  },
  {
   "cell_type": "code",
   "execution_count": 62,
   "metadata": {},
   "outputs": [
    {
     "data": {
      "text/plain": [
       "<matplotlib.axes._subplots.AxesSubplot at 0x25ab2a06a08>"
      ]
     },
     "execution_count": 62,
     "metadata": {},
     "output_type": "execute_result"
    },
    {
     "data": {
      "image/png": "[encoded data removed]",
      "text/plain": [
       "<Figure size 1152x576 with 1 Axes>"
      ]
     },
     "metadata": {
      "needs_background": "light"
     },
     "output_type": "display_data"
    }
   ],
   "source": [
    "# 特征重要度\n",
    "feature_importances = model.feature_importances_\n",
    "feature_importances = pd.Series(feature_importances,index=train_X.columns)\n",
    "from matplotlib.pylab import rcParams\n",
    "rcParams['figure.figsize'] = 16, 8\n",
    "feature_importances.sort_values().plot(kind=\"bar\")"
   ]
  },
  {
   "cell_type": "markdown",
   "metadata": {},
   "source": [
    "## 调参"
   ]
  },
  {
   "cell_type": "code",
   "execution_count": 72,
   "metadata": {},
   "outputs": [],
   "source": [
    "from sklearn.model_selection import GridSearchCV\n",
    "from sklearn.model_selection import StratifiedKFold"
   ]
  },
  {
   "cell_type": "markdown",
   "metadata": {},
   "source": [
    "### 迭代轮次试验"
   ]
  },
  {
   "cell_type": "code",
   "execution_count": 69,
   "metadata": {},
   "outputs": [],
   "source": [
    "# 基本参数设定\n",
    "params = {\n",
    "    \"boosting_type\":\"gbdt\",\n",
    "    \"objective\":\"binary\",\n",
    "    \"metric\":\"auc\",\n",
    "    \"ntheard\": 8,\n",
    "    \"learning_rate\":0.1, # 较大学习率\n",
    "    \"num_leaves\":30,\n",
    "    \"max_depth\":5,\n",
    "    \"subsample\":0.8,\n",
    "    \"colsample_bytree\":0.8    \n",
    "}\n",
    "# 使用内置训练方法，得到最优迭代轮次\n",
    "data_train = lgb.Dataset(train_X.values,train_Y.values)\n",
    "cv_result = lgb.cv(params, data_train, num_boost_round=1000, early_stopping_rounds=200, nfold=5, stratified=True, metrics=\"auc\", shuffle=True)"
   ]
  },
  {
   "cell_type": "code",
   "execution_count": 70,
   "metadata": {},
   "outputs": [
    {
     "name": "stdout",
     "output_type": "stream",
     "text": [
      "最优迭代轮次:59\n",
      "最好auc得分:0.8400026028662755\n"
     ]
    }
   ],
   "source": [
    "print(\"最优迭代轮次:\"+str(len(cv_result[\"auc-mean\"])))\n",
    "print(\"最好auc得分:\"+str(max(cv_result[\"auc-mean\"])))"
   ]
  },
  {
   "cell_type": "markdown",
   "metadata": {},
   "source": [
    "### 调整最大树深和最大叶子节点树"
   ]
  },
  {
   "cell_type": "code",
   "execution_count": 74,
   "metadata": {},
   "outputs": [
    {
     "data": {
      "text/plain": [
       "GridSearchCV(cv=StratifiedKFold(n_splits=5, random_state=None, shuffle=True),\n",
       "             error_score=nan,\n",
       "             estimator=LGBMClassifier(bagging_fraction=0.8,\n",
       "                                      boosting_type='gbdt', class_weight=None,\n",
       "                                      colsample_bytree=1.0,\n",
       "                                      feature_fraction=0.8,\n",
       "                                      importance_type='split',\n",
       "                                      learning_rate=0.1, max_depth=-1,\n",
       "                                      metrics='auc', min_child_samples=20,\n",
       "                                      min_child_weight=0.001,\n",
       "                                      min_split_gain=0.0,...timators=59,\n",
       "                                      n_jobs=-1, num_leaves=31,\n",
       "                                      objective='binary', random_state=None,\n",
       "                                      reg_alpha=0.0, reg_lambda=0.0,\n",
       "                                      silent=True, subsample=1.0,\n",
       "                                      subsample_for_bin=200000,\n",
       "                                      subsample_freq=0),\n",
       "             iid='deprecated', n_jobs=-1,\n",
       "             param_grid={'max_depth': range(3, 8),\n",
       "                         'num_leaves': range(5, 100, 5)},\n",
       "             pre_dispatch='2*n_jobs', refit=True, return_train_score=False,\n",
       "             scoring='roc_auc', verbose=0)"
      ]
     },
     "execution_count": 74,
     "metadata": {},
     "output_type": "execute_result"
    }
   ],
   "source": [
    "# 调整最大树深和最大叶子节点树\n",
    "grid_params1 = {\n",
    "    \"max_depth\":range(3,8,1),\n",
    "    \"num_leaves\":range(5,100,5)\n",
    "}\n",
    "skf = StratifiedKFold(n_splits=5, shuffle=True)\n",
    "model = lgb.LGBMClassifier(boosting_type=\"gbdt\", objective=\"binary\", metrics=\"auc\", learning_rate=0.1, n_estimators=59, bagging_fraction=0.8, feature_fraction = 0.8)\n",
    "gridSearch = GridSearchCV(estimator=model, param_grid=grid_params1, scoring=\"roc_auc\", cv=skf, n_jobs=-1)\n",
    "gridSearch.fit(train_X,train_Y)"
   ]
  },
  {
   "cell_type": "code",
   "execution_count": 76,
   "metadata": {},
   "outputs": [
    {
     "data": {
      "text/plain": [
       "(LGBMClassifier(bagging_fraction=0.8, boosting_type='gbdt', class_weight=None,\n",
       "                colsample_bytree=1.0, feature_fraction=0.8,\n",
       "                importance_type='split', learning_rate=0.1, max_depth=5,\n",
       "                metrics='auc', min_child_samples=20, min_child_weight=0.001,\n",
       "                min_split_gain=0.0, n_estimators=59, n_jobs=-1, num_leaves=10,\n",
       "                objective='binary', random_state=None, reg_alpha=0.0,\n",
       "                reg_lambda=0.0, silent=True, subsample=1.0,\n",
       "                subsample_for_bin=200000, subsample_freq=0),\n",
       " {'max_depth': 5, 'num_leaves': 10},\n",
       " 0.8778309153867763)"
      ]
     },
     "execution_count": 76,
     "metadata": {},
     "output_type": "execute_result"
    }
   ],
   "source": [
    "gridSearch.best_estimator_, gridSearch.best_params_, gridSearch.best_score_"
   ]
  },
  {
   "cell_type": "markdown",
   "metadata": {},
   "source": [
    "### 调整min_data_in_leaf(叶子最小样本量)和max_bin"
   ]
  },
  {
   "cell_type": "code",
   "execution_count": 77,
   "metadata": {},
   "outputs": [
    {
     "name": "stderr",
     "output_type": "stream",
     "text": [
      "D:\\ProgramData\\Anaconda3\\lib\\site-packages\\joblib\\externals\\loky\\process_executor.py:706: UserWarning: A worker stopped while some jobs were given to the executor. This can be caused by a too short worker timeout or by a memory leak.\n",
      "  \"timeout or by a memory leak.\", UserWarning\n"
     ]
    },
    {
     "data": {
      "text/plain": [
       "GridSearchCV(cv=StratifiedKFold(n_splits=5, random_state=None, shuffle=True),\n",
       "             error_score=nan,\n",
       "             estimator=LGBMClassifier(bagging_fraction=0.8,\n",
       "                                      boosting_type='gbdt', class_weight=None,\n",
       "                                      colsample_bytree=1.0,\n",
       "                                      feature_fraction=0.8,\n",
       "                                      importance_type='split',\n",
       "                                      learning_rate=0.1, max_depth=5,\n",
       "                                      metrics='auc', min_child_samples=20,\n",
       "                                      min_child_weight=0.001,\n",
       "                                      min_split_gain=0.0, n...,\n",
       "                                      n_jobs=-1, num_leaves=10,\n",
       "                                      objective='binary', random_state=None,\n",
       "                                      reg_alpha=0.0, reg_lambda=0.0,\n",
       "                                      silent=True, subsample=1.0,\n",
       "                                      subsample_for_bin=200000,\n",
       "                                      subsample_freq=0),\n",
       "             iid='deprecated', n_jobs=-1,\n",
       "             param_grid={'max_bin': range(5, 256, 10),\n",
       "                         'min_data_in_leaf': range(21, 200, 10)},\n",
       "             pre_dispatch='2*n_jobs', refit=True, return_train_score=False,\n",
       "             scoring='roc_auc', verbose=0)"
      ]
     },
     "execution_count": 77,
     "metadata": {},
     "output_type": "execute_result"
    }
   ],
   "source": [
    "# 调整min_data_in_leaf(叶子最小样本量)和max_bin\n",
    "grid_params1 = {\n",
    "    \"min_data_in_leaf\":range(21,200,10),\n",
    "    \"max_bin\":range(5,256,10)\n",
    "}\n",
    "model = lgb.LGBMClassifier(boosting_type=\"gbdt\", objective=\"binary\", metrics=\"auc\", learning_rate=0.1, n_estimators=59, bagging_fraction=0.8, feature_fraction = 0.8,\\\n",
    "                           max_depth=5, num_leaves=10)\n",
    "gridSearch = GridSearchCV(estimator=model, param_grid=grid_params1, scoring=\"roc_auc\", cv=skf, n_jobs=-1)\n",
    "gridSearch.fit(train_X,train_Y)"
   ]
  },
  {
   "cell_type": "code",
   "execution_count": 78,
   "metadata": {},
   "outputs": [
    {
     "data": {
      "text/plain": [
       "(LGBMClassifier(bagging_fraction=0.8, boosting_type='gbdt', class_weight=None,\n",
       "                colsample_bytree=1.0, feature_fraction=0.8,\n",
       "                importance_type='split', learning_rate=0.1, max_bin=15,\n",
       "                max_depth=5, metrics='auc', min_child_samples=20,\n",
       "                min_child_weight=0.001, min_data_in_leaf=161, min_split_gain=0.0,\n",
       "                n_estimators=59, n_jobs=-1, num_leaves=10, objective='binary',\n",
       "                random_state=None, reg_alpha=0.0, reg_lambda=0.0, silent=True,\n",
       "                subsample=1.0, subsample_for_bin=200000, subsample_freq=0),\n",
       " {'max_bin': 15, 'min_data_in_leaf': 161},\n",
       " 0.900738134949461)"
      ]
     },
     "execution_count": 78,
     "metadata": {},
     "output_type": "execute_result"
    }
   ],
   "source": [
    "gridSearch.best_estimator_, gridSearch.best_params_, gridSearch.best_score_"
   ]
  },
  {
   "cell_type": "markdown",
   "metadata": {},
   "source": [
    "### feature_fraction(特征抽样比例),bagging_fraction(样本抽样比例),bagging_freq"
   ]
  },
  {
   "cell_type": "code",
   "execution_count": 83,
   "metadata": {},
   "outputs": [
    {
     "name": "stderr",
     "output_type": "stream",
     "text": [
      "D:\\ProgramData\\Anaconda3\\lib\\site-packages\\joblib\\externals\\loky\\process_executor.py:706: UserWarning: A worker stopped while some jobs were given to the executor. This can be caused by a too short worker timeout or by a memory leak.\n",
      "  \"timeout or by a memory leak.\", UserWarning\n"
     ]
    },
    {
     "data": {
      "text/plain": [
       "GridSearchCV(cv=StratifiedKFold(n_splits=5, random_state=None, shuffle=True),\n",
       "             error_score=nan,\n",
       "             estimator=LGBMClassifier(bagging_fraction=0.8,\n",
       "                                      boosting_type='gbdt', class_weight=None,\n",
       "                                      colsample_bytree=1.0,\n",
       "                                      feature_fraction=0.8,\n",
       "                                      importance_type='split',\n",
       "                                      learning_rate=0.1, max_bin=15,\n",
       "                                      max_depth=5, metrics='auc',\n",
       "                                      min_child_samples=20,\n",
       "                                      min_child_weight=0.001,\n",
       "                                      min_data_...\n",
       "                                      reg_alpha=0.0, reg_lambda=0.0,\n",
       "                                      silent=True, subsample=1.0,\n",
       "                                      subsample_for_bin=200000,\n",
       "                                      subsample_freq=0),\n",
       "             iid='deprecated', n_jobs=-1,\n",
       "             param_grid={'bagging_fraction': [0.4, 0.5, 0.6, 0.7, 0.8, 0.9,\n",
       "                                              1.0],\n",
       "                         'bagging_freq': range(0, 60, 10),\n",
       "                         'feature_fraction': [0.4, 0.5, 0.6, 0.7, 0.8, 0.9,\n",
       "                                              1.0]},\n",
       "             pre_dispatch='2*n_jobs', refit=True, return_train_score=False,\n",
       "             scoring='roc_auc', verbose=0)"
      ]
     },
     "execution_count": 83,
     "metadata": {},
     "output_type": "execute_result"
    }
   ],
   "source": [
    "# feature_fraction(特征抽样比例),bagging_fraction(样本抽样比例),bagging_freq\n",
    "grid_params3 = {\n",
    "    \"feature_fraction\":[0.4,0.5,0.6,0.7,0.8,0.9,1.0],\n",
    "    \"bagging_fraction\":[0.4,0.5,0.6,0.7,0.8,0.9,1.0],\n",
    "    \"bagging_freq\":range(0,60,10)\n",
    "}\n",
    "model = lgb.LGBMClassifier(boosting_type=\"gbdt\", objective=\"binary\", metrics=\"auc\", learning_rate=0.1, n_estimators=59, bagging_fraction=0.8, feature_fraction = 0.8,\\\n",
    "                           max_depth=5, num_leaves=10, max_bin=15, min_data_in_leaf=161)\n",
    "gridSearch = GridSearchCV(estimator=model, param_grid=grid_params3, scoring=\"roc_auc\", cv=skf, n_jobs=-1)\n",
    "gridSearch.fit(train_X,train_Y)"
   ]
  },
  {
   "cell_type": "code",
   "execution_count": 84,
   "metadata": {},
   "outputs": [
    {
     "data": {
      "text/plain": [
       "(LGBMClassifier(bagging_fraction=0.9, bagging_freq=20, boosting_type='gbdt',\n",
       "                class_weight=None, colsample_bytree=1.0, feature_fraction=0.4,\n",
       "                importance_type='split', learning_rate=0.1, max_bin=15,\n",
       "                max_depth=5, metrics='auc', min_child_samples=20,\n",
       "                min_child_weight=0.001, min_data_in_leaf=161, min_split_gain=0.0,\n",
       "                n_estimators=59, n_jobs=-1, num_leaves=10, objective='binary',\n",
       "                random_state=None, reg_alpha=0.0, reg_lambda=0.0, silent=True,\n",
       "                subsample=1.0, subsample_for_bin=200000, subsample_freq=0),\n",
       " {'bagging_fraction': 0.9, 'bagging_freq': 20, 'feature_fraction': 0.4},\n",
       " 0.9006017118074119)"
      ]
     },
     "execution_count": 84,
     "metadata": {},
     "output_type": "execute_result"
    }
   ],
   "source": [
    "gridSearch.best_estimator_, gridSearch.best_params_, gridSearch.best_score_"
   ]
  },
  {
   "cell_type": "markdown",
   "metadata": {},
   "source": [
    "### L1和L2正则化系数"
   ]
  },
  {
   "cell_type": "code",
   "execution_count": 85,
   "metadata": {},
   "outputs": [
    {
     "name": "stderr",
     "output_type": "stream",
     "text": [
      "D:\\ProgramData\\Anaconda3\\lib\\site-packages\\joblib\\externals\\loky\\process_executor.py:706: UserWarning: A worker stopped while some jobs were given to the executor. This can be caused by a too short worker timeout or by a memory leak.\n",
      "  \"timeout or by a memory leak.\", UserWarning\n"
     ]
    },
    {
     "data": {
      "text/plain": [
       "GridSearchCV(cv=StratifiedKFold(n_splits=5, random_state=None, shuffle=True),\n",
       "             error_score=nan,\n",
       "             estimator=LGBMClassifier(bagging_fraction=0.9, bagging_freq=20,\n",
       "                                      boosting_type='gbdt', class_weight=None,\n",
       "                                      colsample_bytree=1.0,\n",
       "                                      feature_fraction=0.4,\n",
       "                                      importance_type='split',\n",
       "                                      learning_rate=0.1, max_bin=15,\n",
       "                                      max_depth=5, metrics='auc',\n",
       "                                      min_child_samples=20,\n",
       "                                      min_child_weight...\n",
       "                                      objective='binary', random_state=None,\n",
       "                                      reg_alpha=0.0, reg_lambda=0.0,\n",
       "                                      silent=True, subsample=1.0,\n",
       "                                      subsample_for_bin=200000,\n",
       "                                      subsample_freq=0),\n",
       "             iid='deprecated', n_jobs=-1,\n",
       "             param_grid={'lambda_l1': [1e-05, 0.001, 0.1, 0.0, 0.1, 0.3, 0.5,\n",
       "                                       0.7, 0.9, 1.0],\n",
       "                         'lambda_l2': [1e-05, 0.001, 0.1, 0.0, 0.1, 0.3, 0.5,\n",
       "                                       0.7, 0.9, 1.0]},\n",
       "             pre_dispatch='2*n_jobs', refit=True, return_train_score=False,\n",
       "             scoring='roc_auc', verbose=0)"
      ]
     },
     "execution_count": 85,
     "metadata": {},
     "output_type": "execute_result"
    }
   ],
   "source": [
    "# L1和L2正则化系数\n",
    "grid_params4 = {\n",
    "    \"lambda_l1\":[1e-5,1e-3,1e-1,0.0,0.1,0.3,0.5,0.7,0.9,1.0],\n",
    "    \"lambda_l2\":[1e-5,1e-3,1e-1,0.0,0.1,0.3,0.5,0.7,0.9,1.0]\n",
    "}\n",
    "model = lgb.LGBMClassifier(boosting_type=\"gbdt\", objective=\"binary\", metrics=\"auc\", learning_rate=0.1, n_estimators=59, bagging_fraction=0.9, feature_fraction = 0.4,\\\n",
    "                           max_depth=5, num_leaves=10, max_bin=15, min_data_in_leaf=161, bagging_freq=20)\n",
    "gridSearch = GridSearchCV(estimator=model, param_grid=grid_params4, scoring=\"roc_auc\", cv=skf, n_jobs=-1)\n",
    "gridSearch.fit(train_X,train_Y)"
   ]
  },
  {
   "cell_type": "code",
   "execution_count": 86,
   "metadata": {},
   "outputs": [
    {
     "data": {
      "text/plain": [
       "(LGBMClassifier(bagging_fraction=0.9, bagging_freq=20, boosting_type='gbdt',\n",
       "                class_weight=None, colsample_bytree=1.0, feature_fraction=0.4,\n",
       "                importance_type='split', lambda_l1=0.3, lambda_l2=0.7,\n",
       "                learning_rate=0.1, max_bin=15, max_depth=5, metrics='auc',\n",
       "                min_child_samples=20, min_child_weight=0.001,\n",
       "                min_data_in_leaf=161, min_split_gain=0.0, n_estimators=59,\n",
       "                n_jobs=-1, num_leaves=10, objective='binary', random_state=None,\n",
       "                reg_alpha=0.0, reg_lambda=0.0, silent=True, subsample=1.0,\n",
       "                subsample_for_bin=200000, subsample_freq=0),\n",
       " {'lambda_l1': 0.3, 'lambda_l2': 0.7},\n",
       " 0.906460599944546)"
      ]
     },
     "execution_count": 86,
     "metadata": {},
     "output_type": "execute_result"
    }
   ],
   "source": [
    "gridSearch.best_estimator_, gridSearch.best_params_, gridSearch.best_score_"
   ]
  },
  {
   "cell_type": "markdown",
   "metadata": {},
   "source": [
    "### min_split_gain最小分裂增益"
   ]
  },
  {
   "cell_type": "code",
   "execution_count": 88,
   "metadata": {},
   "outputs": [
    {
     "name": "stderr",
     "output_type": "stream",
     "text": [
      "D:\\ProgramData\\Anaconda3\\lib\\site-packages\\joblib\\externals\\loky\\process_executor.py:706: UserWarning: A worker stopped while some jobs were given to the executor. This can be caused by a too short worker timeout or by a memory leak.\n",
      "  \"timeout or by a memory leak.\", UserWarning\n"
     ]
    },
    {
     "data": {
      "text/plain": [
       "GridSearchCV(cv=StratifiedKFold(n_splits=5, random_state=None, shuffle=True),\n",
       "             error_score=nan,\n",
       "             estimator=LGBMClassifier(bagging_fraction=0.9, bagging_freq=20,\n",
       "                                      boosting_type='gbdt', class_weight=None,\n",
       "                                      colsample_bytree=1.0,\n",
       "                                      feature_fraction=0.4,\n",
       "                                      importance_type='split', lambda_l1=0.3,\n",
       "                                      lambda_l2=0.7, learning_rate=0.1,\n",
       "                                      max_bin=15, max_depth=5, metrics='auc',\n",
       "                                      min_child...\n",
       "                                      n_estimators=59, n_jobs=-1, num_leaves=10,\n",
       "                                      objective='binary', random_state=None,\n",
       "                                      reg_alpha=0.0, reg_lambda=0.0,\n",
       "                                      silent=True, subsample=1.0,\n",
       "                                      subsample_for_bin=200000,\n",
       "                                      subsample_freq=0),\n",
       "             iid='deprecated', n_jobs=-1,\n",
       "             param_grid={'min_split_gain': [0.1, 0.2, 0.3, 0.4, 0.5, 0.6, 0.7,\n",
       "                                            0.8, 0.9, 1.0]},\n",
       "             pre_dispatch='2*n_jobs', refit=True, return_train_score=False,\n",
       "             scoring='roc_auc', verbose=0)"
      ]
     },
     "execution_count": 88,
     "metadata": {},
     "output_type": "execute_result"
    }
   ],
   "source": [
    "# min_split_gain最小分裂增益\n",
    "grid_params5 = {\n",
    "    \"min_split_gain\":[0.1,0.2,0.3,0.4,0.5,0.6,0.7,0.8,0.9,1.0]\n",
    "}\n",
    "model = lgb.LGBMClassifier(boosting_type=\"gbdt\", objective=\"binary\", metrics=\"auc\", learning_rate=0.1, n_estimators=59, bagging_fraction=0.9, feature_fraction = 0.4,\\\n",
    "                           max_depth=5, num_leaves=10, max_bin=15, min_data_in_leaf=161, bagging_freq=20, lambda_l1=0.3, lambda_l2=0.7)\n",
    "gridSearch = GridSearchCV(estimator=model, param_grid=grid_params5, scoring=\"roc_auc\", cv=skf, n_jobs=-1)\n",
    "gridSearch.fit(train_X,train_Y)"
   ]
  },
  {
   "cell_type": "code",
   "execution_count": 89,
   "metadata": {},
   "outputs": [
    {
     "data": {
      "text/plain": [
       "(LGBMClassifier(bagging_fraction=0.9, bagging_freq=20, boosting_type='gbdt',\n",
       "                class_weight=None, colsample_bytree=1.0, feature_fraction=0.4,\n",
       "                importance_type='split', lambda_l1=0.3, lambda_l2=0.7,\n",
       "                learning_rate=0.1, max_bin=15, max_depth=5, metrics='auc',\n",
       "                min_child_samples=20, min_child_weight=0.001,\n",
       "                min_data_in_leaf=161, min_split_gain=0.9, n_estimators=59,\n",
       "                n_jobs=-1, num_leaves=10, objective='binary', random_state=None,\n",
       "                reg_alpha=0.0, reg_lambda=0.0, silent=True, subsample=1.0,\n",
       "                subsample_for_bin=200000, subsample_freq=0),\n",
       " {'min_split_gain': 0.9},\n",
       " 0.9031428338142693)"
      ]
     },
     "execution_count": 89,
     "metadata": {},
     "output_type": "execute_result"
    }
   ],
   "source": [
    "gridSearch.best_estimator_, gridSearch.best_params_, gridSearch.best_score_"
   ]
  },
  {
   "cell_type": "markdown",
   "metadata": {},
   "source": [
    "### 降低学习率，提高迭代轮次"
   ]
  },
  {
   "cell_type": "code",
   "execution_count": 92,
   "metadata": {},
   "outputs": [
    {
     "data": {
      "text/plain": [
       "LGBMClassifier(bagging_fraction=0.9, bagging_freq=20, boosting_type='gbdt',\n",
       "               class_weight=None, colsample_bytree=1.0, feature_fraction=0.4,\n",
       "               importance_type='split', lambda_l1=0.3, lambda_l2=0.7,\n",
       "               learning_rate=0.001, max_bin=15, max_depth=5, metrics='auc',\n",
       "               min_child_samples=20, min_child_weight=0.001,\n",
       "               min_data_in_leaf=161, min_split_gain=0.0, n_estimators=6000,\n",
       "               n_jobs=-1, num_leaves=10, objective='binary', random_state=None,\n",
       "               reg_alpha=0.0, reg_lambda=0.0, silent=True, subsample=1.0,\n",
       "               subsample_for_bin=200000, subsample_freq=0)"
      ]
     },
     "execution_count": 92,
     "metadata": {},
     "output_type": "execute_result"
    }
   ],
   "source": [
    "# 降低学习率，提高迭代轮次\n",
    "model = lgb.LGBMClassifier(boosting_type=\"gbdt\", objective=\"binary\", metrics=\"auc\", learning_rate=0.001, n_estimators=6000, bagging_fraction=0.9, feature_fraction = 0.4,\\\n",
    "                           max_depth=5, num_leaves=10, max_bin=15, min_data_in_leaf=161, bagging_freq=20, lambda_l1=0.3, lambda_l2=0.7)\n",
    "model.fit(train_X, train_Y)"
   ]
  },
  {
   "cell_type": "markdown",
   "metadata": {},
   "source": [
    "## 模型效果"
   ]
  },
  {
   "cell_type": "markdown",
   "metadata": {},
   "source": [
    "### auc计算"
   ]
  },
  {
   "cell_type": "code",
   "execution_count": 94,
   "metadata": {},
   "outputs": [
    {
     "name": "stdout",
     "output_type": "stream",
     "text": [
      "auc\n",
      "0.9051444110514727\n"
     ]
    }
   ],
   "source": [
    "# 计算auc，特征重要度，验证模型\n",
    "res = model.predict_proba(test_X)\n",
    "print(\"auc\")\n",
    "print(roc_auc_score(test_Y,res[:,1]))"
   ]
  },
  {
   "cell_type": "markdown",
   "metadata": {},
   "source": [
    "### 特征重要度"
   ]
  },
  {
   "cell_type": "code",
   "execution_count": 95,
   "metadata": {},
   "outputs": [
    {
     "data": {
      "text/plain": [
       "<matplotlib.axes._subplots.AxesSubplot at 0x25b1b83a708>"
      ]
     },
     "execution_count": 95,
     "metadata": {},
     "output_type": "execute_result"
    },
    {
     "data": {
      "image/png": "[encoded data removed]",
      "text/plain": [
       "<Figure size 1152x576 with 1 Axes>"
      ]
     },
     "metadata": {
      "needs_background": "light"
     },
     "output_type": "display_data"
    }
   ],
   "source": [
    "# 特征重要度\n",
    "feature_importances = model.feature_importances_\n",
    "feature_importances = pd.Series(feature_importances, index=train_X.columns)\n",
    "from matplotlib.pylab import rcParams\n",
    "rcParams['figure.figsize'] = 16, 8\n",
    "feature_importances.sort_values().plot(kind=\"bar\")"
   ]
  },
  {
   "cell_type": "markdown",
   "metadata": {},
   "source": [
    "### ROC曲线"
   ]
  },
  {
   "cell_type": "code",
   "execution_count": 96,
   "metadata": {},
   "outputs": [],
   "source": [
    "# ROC_curve&可视化\n",
    "from sklearn.metrics import roc_curve\n",
    "fpr, tpr, thresholds = roc_curve(test_Y, res[:,1])"
   ]
  },
  {
   "cell_type": "code",
   "execution_count": 100,
   "metadata": {},
   "outputs": [],
   "source": [
    "roc_data = pd.DataFrame({\"fpr\":fpr,\"tpr\":tpr})"
   ]
  },
  {
   "cell_type": "code",
   "execution_count": 102,
   "metadata": {},
   "outputs": [
    {
     "data": {
      "text/plain": [
       "<seaborn.axisgrid.FacetGrid at 0x25b307860c8>"
      ]
     },
     "execution_count": 102,
     "metadata": {},
     "output_type": "execute_result"
    },
    {
     "data": {
      "image/png": "[encoded data removed]",
      "text/plain": [
       "<Figure size 360x360 with 1 Axes>"
      ]
     },
     "metadata": {
      "needs_background": "light"
     },
     "output_type": "display_data"
    }
   ],
   "source": [
    "import seaborn as sns\n",
    "sns.relplot(x=\"fpr\", y=\"tpr\", data=roc_data, kind=\"line\", ci=None)"
   ]
  }
 ],
 "metadata": {
  "kernelspec": {
   "display_name": "Python 3",
   "language": "python",
   "name": "python3"
  },
  "language_info": {
   "codemirror_mode": {
    "name": "ipython",
    "version": 3
   },
   "file_extension": ".py",
   "mimetype": "text/x-python",
   "name": "python",
   "nbconvert_exporter": "python",
   "pygments_lexer": "ipython3",
   "version": "3.7.6"
  },
  "toc": {
   "base_numbering": 1,
   "nav_menu": {},
   "number_sections": true,
   "sideBar": true,
   "skip_h1_title": false,
   "title_cell": "Table of Contents",
   "title_sidebar": "Contents",
   "toc_cell": false,
   "toc_position": {},
   "toc_section_display": true,
   "toc_window_display": true
  }
 },
 "nbformat": 4,
 "nbformat_minor": 4
}
